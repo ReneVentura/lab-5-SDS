{
 "cells": [
  {
   "cell_type": "code",
   "execution_count": 1,
   "metadata": {},
   "outputs": [
    {
     "name": "stderr",
     "output_type": "stream",
     "text": [
      "WARNING: WinPcap is now deprecated (not maintained). Please use Npcap instead\n"
     ]
    },
    {
     "name": "stdout",
     "output_type": "stream",
     "text": [
      "Tipo de datos: <class 'scapy.plist.PacketList'>\n",
      "Longitud: 10\n",
      "0000 Ether / IP / TCP 162.159.130.234:https > 192.168.0.5:49766 PA / Raw\n",
      "0001 Ether / IP / TCP 162.159.130.234:https > 192.168.0.5:49766 PA / Raw\n",
      "0002 Ether / IP / TCP 192.168.0.5:49766 > 162.159.130.234:https A\n",
      "0003 Ether / IP / TCP 157.240.233.60:https > 192.168.0.5:51214 PA / Raw\n",
      "0004 Ether / IP / TCP 192.168.0.5:51214 > 157.240.233.60:https PA / Raw\n",
      "0005 Ether / IP / TCP 157.240.233.60:https > 192.168.0.5:51214 A / Padding\n",
      "0006 Ether / IP / TCP 192.168.0.5:49926 > 192.168.0.4:8009 PA / Raw\n",
      "0007 Ether / IP / TCP 192.168.0.4:8009 > 192.168.0.5:49926 PA / Raw\n",
      "0008 Ether / IP / TCP 192.168.0.5:49926 > 192.168.0.4:8009 A\n",
      "0009 Ether / ARP who has 192.168.0.5 says 192.168.0.1 / Padding\n",
      "Contenido: None\n"
     ]
    },
    {
     "data": {
      "text/html": [
       "<div>\n",
       "<style scoped>\n",
       "    .dataframe tbody tr th:only-of-type {\n",
       "        vertical-align: middle;\n",
       "    }\n",
       "\n",
       "    .dataframe tbody tr th {\n",
       "        vertical-align: top;\n",
       "    }\n",
       "\n",
       "    .dataframe thead th {\n",
       "        text-align: right;\n",
       "    }\n",
       "</style>\n",
       "<table border=\"1\" class=\"dataframe\">\n",
       "  <thead>\n",
       "    <tr style=\"text-align: right;\">\n",
       "      <th></th>\n",
       "      <th>Src Address</th>\n",
       "      <th>Dst Address</th>\n",
       "      <th>Src Port</th>\n",
       "      <th>Dst Port</th>\n",
       "      <th>Payload</th>\n",
       "      <th>Payload_Raw</th>\n",
       "    </tr>\n",
       "  </thead>\n",
       "  <tbody>\n",
       "    <tr>\n",
       "      <th>0</th>\n",
       "      <td>162.159.130.234</td>\n",
       "      <td>192.168.0.5</td>\n",
       "      <td>443</td>\n",
       "      <td>49766</td>\n",
       "      <td>98</td>\n",
       "      <td>b'\\x17\\x03\\x03\\x00]\\x8a\\xee\\xb6L\\xd6\\x89)\\xf5\\...</td>\n",
       "    </tr>\n",
       "    <tr>\n",
       "      <th>1</th>\n",
       "      <td>162.159.130.234</td>\n",
       "      <td>192.168.0.5</td>\n",
       "      <td>443</td>\n",
       "      <td>49766</td>\n",
       "      <td>408</td>\n",
       "      <td>b'\\x17\\x03\\x03\\x01\\x935\\xe2\\xb2\\x17\\x00\\x8c\\xc...</td>\n",
       "    </tr>\n",
       "    <tr>\n",
       "      <th>2</th>\n",
       "      <td>157.240.233.60</td>\n",
       "      <td>192.168.0.5</td>\n",
       "      <td>443</td>\n",
       "      <td>51214</td>\n",
       "      <td>95</td>\n",
       "      <td>b'\\x17\\x03\\x03\\x00Ze\\xc5\\xa8\\x00\\x85\\x88\\x1f3 ...</td>\n",
       "    </tr>\n",
       "    <tr>\n",
       "      <th>3</th>\n",
       "      <td>192.168.0.5</td>\n",
       "      <td>157.240.233.60</td>\n",
       "      <td>51214</td>\n",
       "      <td>443</td>\n",
       "      <td>74</td>\n",
       "      <td>b'\\x17\\x03\\x03\\x00E\\xac2\\x95\\xa8^\\xe68\\xb5\\xe4...</td>\n",
       "    </tr>\n",
       "    <tr>\n",
       "      <th>4</th>\n",
       "      <td>192.168.0.5</td>\n",
       "      <td>192.168.0.4</td>\n",
       "      <td>49926</td>\n",
       "      <td>8009</td>\n",
       "      <td>110</td>\n",
       "      <td>b'\\x17\\x03\\x03\\x00i\\xf5H\\x0f\\'.\\xb4`G\\x81\\x18\\...</td>\n",
       "    </tr>\n",
       "    <tr>\n",
       "      <th>5</th>\n",
       "      <td>192.168.0.4</td>\n",
       "      <td>192.168.0.5</td>\n",
       "      <td>8009</td>\n",
       "      <td>49926</td>\n",
       "      <td>110</td>\n",
       "      <td>b\"\\x17\\x03\\x03\\x00i\\x15u\\xcb\\x80\\x99\\xe9\\x01xk...</td>\n",
       "    </tr>\n",
       "  </tbody>\n",
       "</table>\n",
       "</div>"
      ],
      "text/plain": [
       "       Src Address     Dst Address  Src Port  Dst Port  Payload  \\\n",
       "0  162.159.130.234     192.168.0.5       443     49766       98   \n",
       "1  162.159.130.234     192.168.0.5       443     49766      408   \n",
       "2   157.240.233.60     192.168.0.5       443     51214       95   \n",
       "3      192.168.0.5  157.240.233.60     51214       443       74   \n",
       "4      192.168.0.5     192.168.0.4     49926      8009      110   \n",
       "5      192.168.0.4     192.168.0.5      8009     49926      110   \n",
       "\n",
       "                                         Payload_Raw  \n",
       "0  b'\\x17\\x03\\x03\\x00]\\x8a\\xee\\xb6L\\xd6\\x89)\\xf5\\...  \n",
       "1  b'\\x17\\x03\\x03\\x01\\x935\\xe2\\xb2\\x17\\x00\\x8c\\xc...  \n",
       "2  b'\\x17\\x03\\x03\\x00Ze\\xc5\\xa8\\x00\\x85\\x88\\x1f3 ...  \n",
       "3  b'\\x17\\x03\\x03\\x00E\\xac2\\x95\\xa8^\\xe68\\xb5\\xe4...  \n",
       "4  b'\\x17\\x03\\x03\\x00i\\xf5H\\x0f\\'.\\xb4`G\\x81\\x18\\...  \n",
       "5  b\"\\x17\\x03\\x03\\x00i\\x15u\\xcb\\x80\\x99\\xe9\\x01xk...  "
      ]
     },
     "execution_count": 1,
     "metadata": {},
     "output_type": "execute_result"
    }
   ],
   "source": [
    "    from scapy.all import *\n",
    "    import pandas as pd\n",
    "    import matplotlib.pyplot as plt\n",
    "\n",
    "    # 1. Capturar 10 paquetes y guardarlos en un archivo pcap\n",
    "    packets = sniff(count=10)\n",
    "    wrpcap('captura.pcap', packets)\n",
    "\n",
    "    # Imprimir tipo de datos, longitud y contenido del archivo pcap\n",
    "    pcap = rdpcap('captura.pcap')\n",
    "    print('Tipo de datos:', type(pcap))\n",
    "    print('Longitud:', len(pcap))\n",
    "    print('Contenido:', pcap.show())\n",
    "\n",
    "    # 2. Agregar el archivo analisis_paquetes.pcap a la captura anterior\n",
    "    packets2 = rdpcap('analisis_paquetes.pcap')\n",
    "    pcap.extend(packets2)\n",
    "    wrpcap('captura.pcap', pcap)\n",
    "\n",
    "    # 3. Convertir el pcap a un DataFrame\n",
    "    data = {'Src Address': [], 'Dst Address': [], 'Src Port': [], 'Dst Port': [], 'Payload': [],'Payload_Raw':[]}\n",
    "    for pkt in pcap:\n",
    "        try:\n",
    "            src = pkt['IP'].src\n",
    "            dst = pkt['IP'].dst\n",
    "            sport = pkt['TCP'].sport\n",
    "            dport = pkt['TCP'].dport\n",
    "            payload = pkt['Raw'].load\n",
    "            \n",
    "        except:\n",
    "            continue\n",
    "        data['Src Address'].append(src)\n",
    "        data['Dst Address'].append(dst)\n",
    "        data['Src Port'].append(sport)\n",
    "        data['Dst Port'].append(dport)\n",
    "        data['Payload'].append(len(payload))\n",
    "        data['Payload_Raw'].append(payload)\n",
    "    df = pd.DataFrame(data)\n",
    "\n",
    "\n",
    "# 4. Mostrar los valores de las columnas solicitadas\n",
    "df\n",
    "\n",
    "\n",
    "\n",
    "\n"
   ]
  },
  {
   "cell_type": "code",
   "execution_count": 2,
   "metadata": {},
   "outputs": [
    {
     "name": "stdout",
     "output_type": "stream",
     "text": [
      "IP origen más frecuente: 162.159.130.234\n",
      "IP destino más frecuente: 192.168.0.5\n",
      "IPs a las que se comunica la IP del inciso a: ['192.168.0.5']\n",
      "Puertos destino a los que se comunica la IP del inciso a: [49766]\n",
      "Puertos origen a los que se comunica la IP del inciso b: [ 443 8009]\n",
      "Propósito de los puertos que más aparecen en los incisos d: [49766, 51214]\n",
      "Propósito de los puertos que más aparecen en los incisos e: [443, 51214]\n"
     ]
    }
   ],
   "source": [
    "# 5. Estadísticas\n",
    "print('IP origen más frecuente:', df['Src Address'].mode()[0])\n",
    "print('IP destino más frecuente:', df['Dst Address'].mode()[0])\n",
    "ip_a = df['Src Address'].mode()[0]\n",
    "print('IPs a las que se comunica la IP del inciso a:', df[df['Src Address']==ip_a]['Dst Address'].unique())\n",
    "print('Puertos destino a los que se comunica la IP del inciso a:', df[df['Src Address']==ip_a]['Dst Port'].unique())\n",
    "ip_b = df['Dst Address'].mode()[0]\n",
    "print('Puertos origen a los que se comunica la IP del inciso b:', df[df['Dst Address']==ip_b]['Src Port'].unique())\n",
    "ports_d = df['Dst Port'].value_counts().head(2).index.to_list()\n",
    "print('Propósito de los puertos que más aparecen en los incisos d:', ports_d)\n",
    "ports_e = df['Src Port'].value_counts().head(2).index.to_list()\n",
    "print('Propósito de los puertos que más aparecen en los incisos e:', ports_e)\n"
   ]
  },
  {
   "attachments": {},
   "cell_type": "markdown",
   "metadata": {},
   "source": [
    "los puertos que pas aparecen son el 443 que es el puerto para https, un protocolo comun en el intercambio de paquetes y el puerto 80 que es para el protocolo http"
   ]
  },
  {
   "cell_type": "code",
   "execution_count": 3,
   "metadata": {},
   "outputs": [
    {
     "data": {
      "image/png": "[encoded data removed]",
      "text/plain": [
       "<Figure size 432x288 with 1 Axes>"
      ]
     },
     "metadata": {
      "needs_background": "light"
     },
     "output_type": "display_data"
    },
    {
     "data": {
      "image/png": "[encoded data removed]",
      "text/plain": [
       "<Figure size 432x288 with 1 Axes>"
      ]
     },
     "metadata": {
      "needs_background": "light"
     },
     "output_type": "display_data"
    },
    {
     "data": {
      "image/png": "[encoded data removed]",
      "text/plain": [
       "<Figure size 432x288 with 1 Axes>"
      ]
     },
     "metadata": {
      "needs_background": "light"
     },
     "output_type": "display_data"
    },
    {
     "data": {
      "image/png": "[encoded data removed]",
      "text/plain": [
       "<Figure size 432x288 with 1 Axes>"
      ]
     },
     "metadata": {
      "needs_background": "light"
     },
     "output_type": "display_data"
    }
   ],
   "source": [
    "\n",
    "# Gráfico a\n",
    "src_payloads = df.groupby('Src Address')['Payload'].sum().reset_index(name='Payload')\n",
    "plt.barh(src_payloads['Src Address'], src_payloads['Payload'])\n",
    "plt.xlabel('Suma de Payloads')\n",
    "plt.ylabel('IP Origen')\n",
    "plt.title('Suma de Payloads enviados por IP Origen')\n",
    "plt.show()\n",
    "\n",
    "# Gráfico b\n",
    "dst_payloads = df.groupby('Dst Address')['Payload'].sum().reset_index(name='Payload')\n",
    "plt.barh(dst_payloads['Dst Address'], dst_payloads['Payload'])\n",
    "plt.xlabel('Suma de Payloads')\n",
    "plt.ylabel('IP Destino')\n",
    "plt.title('Suma de Payloads recibidos por IP Destino')\n",
    "plt.show()\n",
    "\n",
    "# Gráfico c\n",
    "src_port_payloads = df.groupby('Src Port')['Payload'].sum().reset_index(name='Payload')\n",
    "plt.barh(src_port_payloads['Src Port'], src_port_payloads['Payload'])\n",
    "plt.xlabel('Suma de Payloads')\n",
    "plt.ylabel('Puerto Origen')\n",
    "plt.title('Suma de Payloads enviados por Puerto Origen')\n",
    "plt.show()\n",
    "\n",
    "# Suma de payloads recibidos por puerto destino\n",
    "dst_payloads = df.groupby('Dst Port')['Payload'].sum().reset_index(name='Payload')\n",
    "\n",
    "# Grafica d\n",
    "plt.bar(dst_payloads['Dst Port'], dst_payloads['Payload'])\n",
    "plt.xlabel('Puerto Destino')\n",
    "plt.ylabel('Suma de Payloads Recibidos')\n",
    "plt.title('Suma de Payloads Recibidos por Puerto Destino')\n",
    "plt.show()\n"
   ]
  },
  {
   "cell_type": "code",
   "execution_count": 4,
   "metadata": {},
   "outputs": [
    {
     "data": {
      "text/html": [
       "<div>\n",
       "<style scoped>\n",
       "    .dataframe tbody tr th:only-of-type {\n",
       "        vertical-align: middle;\n",
       "    }\n",
       "\n",
       "    .dataframe tbody tr th {\n",
       "        vertical-align: top;\n",
       "    }\n",
       "\n",
       "    .dataframe thead th {\n",
       "        text-align: right;\n",
       "    }\n",
       "</style>\n",
       "<table border=\"1\" class=\"dataframe\">\n",
       "  <thead>\n",
       "    <tr style=\"text-align: right;\">\n",
       "      <th></th>\n",
       "      <th>Src Address</th>\n",
       "      <th>Dst Address</th>\n",
       "      <th>Src Port</th>\n",
       "      <th>Dst Port</th>\n",
       "      <th>Payload</th>\n",
       "      <th>Payload_Raw</th>\n",
       "    </tr>\n",
       "  </thead>\n",
       "  <tbody>\n",
       "    <tr>\n",
       "      <th>0</th>\n",
       "      <td>162.159.130.234</td>\n",
       "      <td>192.168.0.5</td>\n",
       "      <td>443</td>\n",
       "      <td>49766</td>\n",
       "      <td>98</td>\n",
       "      <td>b'\\x17\\x03\\x03\\x00]\\x8a\\xee\\xb6L\\xd6\\x89)\\xf5\\...</td>\n",
       "    </tr>\n",
       "    <tr>\n",
       "      <th>1</th>\n",
       "      <td>162.159.130.234</td>\n",
       "      <td>192.168.0.5</td>\n",
       "      <td>443</td>\n",
       "      <td>49766</td>\n",
       "      <td>408</td>\n",
       "      <td>b'\\x17\\x03\\x03\\x01\\x935\\xe2\\xb2\\x17\\x00\\x8c\\xc...</td>\n",
       "    </tr>\n",
       "  </tbody>\n",
       "</table>\n",
       "</div>"
      ],
      "text/plain": [
       "       Src Address  Dst Address  Src Port  Dst Port  Payload  \\\n",
       "0  162.159.130.234  192.168.0.5       443     49766       98   \n",
       "1  162.159.130.234  192.168.0.5       443     49766      408   \n",
       "\n",
       "                                         Payload_Raw  \n",
       "0  b'\\x17\\x03\\x03\\x00]\\x8a\\xee\\xb6L\\xd6\\x89)\\xf5\\...  \n",
       "1  b'\\x17\\x03\\x03\\x01\\x935\\xe2\\xb2\\x17\\x00\\x8c\\xc...  "
      ]
     },
     "execution_count": 4,
     "metadata": {},
     "output_type": "execute_result"
    }
   ],
   "source": [
    "most_common_src = df['Src Address'].value_counts().index[0]\n",
    "new_df = df[df['Src Address'] == most_common_src]\n",
    "new_df\n"
   ]
  },
  {
   "cell_type": "code",
   "execution_count": 5,
   "metadata": {},
   "outputs": [
    {
     "data": {
      "text/html": [
       "<div>\n",
       "<style scoped>\n",
       "    .dataframe tbody tr th:only-of-type {\n",
       "        vertical-align: middle;\n",
       "    }\n",
       "\n",
       "    .dataframe tbody tr th {\n",
       "        vertical-align: top;\n",
       "    }\n",
       "\n",
       "    .dataframe thead th {\n",
       "        text-align: right;\n",
       "    }\n",
       "</style>\n",
       "<table border=\"1\" class=\"dataframe\">\n",
       "  <thead>\n",
       "    <tr style=\"text-align: right;\">\n",
       "      <th></th>\n",
       "      <th>Src Address</th>\n",
       "      <th>Dst Address</th>\n",
       "      <th>Payload</th>\n",
       "    </tr>\n",
       "  </thead>\n",
       "  <tbody>\n",
       "    <tr>\n",
       "      <th>0</th>\n",
       "      <td>157.240.233.60</td>\n",
       "      <td>192.168.0.5</td>\n",
       "      <td>95</td>\n",
       "    </tr>\n",
       "    <tr>\n",
       "      <th>1</th>\n",
       "      <td>162.159.130.234</td>\n",
       "      <td>192.168.0.5</td>\n",
       "      <td>506</td>\n",
       "    </tr>\n",
       "    <tr>\n",
       "      <th>2</th>\n",
       "      <td>192.168.0.4</td>\n",
       "      <td>192.168.0.5</td>\n",
       "      <td>110</td>\n",
       "    </tr>\n",
       "    <tr>\n",
       "      <th>3</th>\n",
       "      <td>192.168.0.5</td>\n",
       "      <td>157.240.233.60</td>\n",
       "      <td>74</td>\n",
       "    </tr>\n",
       "    <tr>\n",
       "      <th>4</th>\n",
       "      <td>192.168.0.5</td>\n",
       "      <td>192.168.0.4</td>\n",
       "      <td>110</td>\n",
       "    </tr>\n",
       "  </tbody>\n",
       "</table>\n",
       "</div>"
      ],
      "text/plain": [
       "       Src Address     Dst Address  Payload\n",
       "0   157.240.233.60     192.168.0.5       95\n",
       "1  162.159.130.234     192.168.0.5      506\n",
       "2      192.168.0.4     192.168.0.5      110\n",
       "3      192.168.0.5  157.240.233.60       74\n",
       "4      192.168.0.5     192.168.0.4      110"
      ]
     },
     "execution_count": 5,
     "metadata": {},
     "output_type": "execute_result"
    }
   ],
   "source": [
    "payloads_df = df.groupby(['Src Address', 'Dst Address'])['Payload'].sum().reset_index()\n",
    "payloads_df"
   ]
  },
  {
   "cell_type": "code",
   "execution_count": 6,
   "metadata": {},
   "outputs": [
    {
     "name": "stdout",
     "output_type": "stream",
     "text": [
      "La dirección IP que más ha intercambiado bytes con la IP origen más frecuente es: 192.168.0.5\n"
     ]
    }
   ],
   "source": [
    "most_common_dst = payloads_df[payloads_df['Src Address'] == most_common_src].sort_values(by='Payload', ascending=False)['Dst Address'].iloc[0]\n",
    "print('La dirección IP que más ha intercambiado bytes con la IP origen más frecuente es:', most_common_dst)\n"
   ]
  },
  {
   "cell_type": "code",
   "execution_count": 7,
   "metadata": {},
   "outputs": [
    {
     "data": {
      "text/html": [
       "<div>\n",
       "<style scoped>\n",
       "    .dataframe tbody tr th:only-of-type {\n",
       "        vertical-align: middle;\n",
       "    }\n",
       "\n",
       "    .dataframe tbody tr th {\n",
       "        vertical-align: top;\n",
       "    }\n",
       "\n",
       "    .dataframe thead th {\n",
       "        text-align: right;\n",
       "    }\n",
       "</style>\n",
       "<table border=\"1\" class=\"dataframe\">\n",
       "  <thead>\n",
       "    <tr style=\"text-align: right;\">\n",
       "      <th></th>\n",
       "      <th>Src Address</th>\n",
       "      <th>Dst Address</th>\n",
       "      <th>Src Port</th>\n",
       "      <th>Dst Port</th>\n",
       "      <th>Payload</th>\n",
       "      <th>Payload_Raw</th>\n",
       "    </tr>\n",
       "  </thead>\n",
       "  <tbody>\n",
       "    <tr>\n",
       "      <th>0</th>\n",
       "      <td>162.159.130.234</td>\n",
       "      <td>192.168.0.5</td>\n",
       "      <td>443</td>\n",
       "      <td>49766</td>\n",
       "      <td>98</td>\n",
       "      <td>b'\\x17\\x03\\x03\\x00]\\x8a\\xee\\xb6L\\xd6\\x89)\\xf5\\...</td>\n",
       "    </tr>\n",
       "    <tr>\n",
       "      <th>1</th>\n",
       "      <td>162.159.130.234</td>\n",
       "      <td>192.168.0.5</td>\n",
       "      <td>443</td>\n",
       "      <td>49766</td>\n",
       "      <td>408</td>\n",
       "      <td>b'\\x17\\x03\\x03\\x01\\x935\\xe2\\xb2\\x17\\x00\\x8c\\xc...</td>\n",
       "    </tr>\n",
       "  </tbody>\n",
       "</table>\n",
       "</div>"
      ],
      "text/plain": [
       "       Src Address  Dst Address  Src Port  Dst Port  Payload  \\\n",
       "0  162.159.130.234  192.168.0.5       443     49766       98   \n",
       "1  162.159.130.234  192.168.0.5       443     49766      408   \n",
       "\n",
       "                                         Payload_Raw  \n",
       "0  b'\\x17\\x03\\x03\\x00]\\x8a\\xee\\xb6L\\xd6\\x89)\\xf5\\...  \n",
       "1  b'\\x17\\x03\\x03\\x01\\x935\\xe2\\xb2\\x17\\x00\\x8c\\xc...  "
      ]
     },
     "execution_count": 7,
     "metadata": {},
     "output_type": "execute_result"
    }
   ],
   "source": [
    "# Crear nuevo DataFrame con la conversación entre las IPs más frecuente y sospechosa\n",
    "ip_mas_frecuente = df['Src Address'].value_counts().index[0]\n",
    "df_frecuente = df[df['Src Address'] == ip_mas_frecuente]\n",
    "\n",
    "ip_sospechosa = df_frecuente.groupby('Dst Address')['Payload'].sum().sort_values(ascending=False).index[0]\n",
    "new_df2 = df[df['Src Address'].isin([ip_mas_frecuente, ip_sospechosa]) & df['Dst Address'].isin([ip_mas_frecuente, ip_sospechosa])]\n",
    "new_df2"
   ]
  },
  {
   "cell_type": "code",
   "execution_count": 8,
   "metadata": {},
   "outputs": [
    {
     "data": {
      "text/plain": [
       "[b'\\x17\\x03\\x03\\x00]\\x8a\\xee\\xb6L\\xd6\\x89)\\xf5\\xfd\\x007\\xe3PCev\\xa7\"\\xf6]\\xabx\\xd2\\xab&t\\xdb\\xf7\\xa4\\x1f\\xdf\\xaa\\x8a\\xd7z\\xcfx\\xd3o\\x98\\x87X\\x93,\\x14\\x88lX\\x1f\\xa89\\xef@\\xab\\x8b\\x14\"\\xb8\\xe4\\x91\\xb7\\x90\\x15\\xd1\"\\x133\\xc2\\xe3\\xba\\xbf\\x15\\x88;&\\xd2\\xa8\\x9f\\xdb\\x8d\\x0c\"\\xe14\\xb7\\xca\\x80\\x90\\x1c?\\xc0F\\xb4',\n",
       " b'\\x17\\x03\\x03\\x01\\x935\\xe2\\xb2\\x17\\x00\\x8c\\xc7\\xd0\\x03\\xc5\"e\\x07\\x9a\\\\R\\xa1e\\x9a\\xd3\\x86\\xf0\\xd0\\xa4\\x83\\x88\\xdd\\x9bo\\x9f\\x99\\x8a\\xaf\\xd2*\\x1a\\x88f\\x17\\xf0\\xb6\\x83mJ]\\xd8\\xbb\\xb9\\x94\\xf0\\x0c\\xcb\\x82\\x0fS<\\'\\xe0\\x8d\\xd0\\xe5F\\x90\\x9ef\\x18\\t\\xbd\\xe4\\x90\\x94\\xba\\x96\\xda#\\x98*\\xdb\\x92M\\xe2\\x80k\\xc4\\xe1WH\\xc1RO\\x98/\\x83\\xdb{/Ef\\xecU_\\xf1\\xb2sd\\xf2\\x1f\\xb5\\xce=\\xeeaq\\xc2\\x114\\x1aj\\xf2\\xc1\\xda\\xf9W\\xb2Z\\r\\x15T\\xe9\\xa5`c\\xb1\\xd2\\x9bb\\x95\\xec\\x89\\xc2Fs\\xdd\\xc0\\xddkY\\xdc\\x8bX\\xd1`\\x00>\\xa2\\xe0=\\xf0\\xa7W\\x9be\\xfb\\x1cE\\xe1\\x7f\\x97\\x8a\\xa6\\xa7Y\\xdby;\\x1e\\xb8\\xe2\\xd5\\x9cQu\\x98<8\\x14\\x83t\\xd0b\\xd6\\xa42\\x91\\xaf\\xec\\x0b\\xb5\\xa8\\x94\\xf7\\xf7XC\\xd4.\\xc3\\xb2\\x04\\xc4*\\xdb\\x18\\x06\\x9d\\xe6{\\x9c\\x82\\xe3[\\x84\\xf8\\xc6\\x1f\\x87\\xdf\\xe1gc\\x84\\xde\\xf0\\xb0\\xafU\\x93`D\\xcbEtv-_\\xcdB\\xfc*+njG\\xe5\\x9e\\xfb\\\\\\x9eD\\xe4\\xdel\\xa3\\'\\xa6n\\x7f~O\\xcd\\xdb&\\xa2\\x0b\\xeb\\xf77\\xf0F\\x17\\xb4\\xc0E\\x1b^\\xf6\\xcfu@^\\xbbDa\\xfc\\xa0q\\x8f\\xac\\xac)\\xe4u\\xe5e!\\xc9\\xbad9mc\\xd95\\xc6\\xca\\xec \\xd5\\xd4\\xb0\\x90N\\x1c\\xc3\\xdaQt\\x9b\\xd4\\x8c\\xd1ZV\\x9c\\xc3y\\xda\\x17\\xc9\\xed\\xcf\\x03\\xf4\\xc3\\xbd+\\x8d\\xf49k\\xbc\\x9e\\xd2|z\\xb3\\xa8\\x7f\\xf9\\x85.yP\\xb6\\xa8>\\x938\\x0e\\xcar\\xf8\\xdd\\xdc\\x9c\\x95\\x8f\\xe5\\xf0H\\xde\\x01Z\\x873T\\xd9,e\\xcfG\\xcf\\xd2YA\\x9a\\xb7$\\xfe\\x82^\\xfe\\xcb',\n",
       " b'\\x17\\x03\\x03\\x00Ze\\xc5\\xa8\\x00\\x85\\x88\\x1f3 \\x17@@\\x1e\\xe1\\xe3\\x00\\x8b?\\xf0M\\x98\\x0b\\xe47\\x16O,\\xa5\\xba\\xbef\\t\\x8d=\\x00\\xd5<\\xa0\\xba:/5\\xc0q\\x1fa\\x8e(\\x8e\\xa33/\\xf1\\xb1\\xf9\\xc4=\\xcd^\\x89>\\x16\\xf1\\x8e\\xb0\\x0f\\xbcWNP\\xee\\x1f\\x0cq\\xae^\\xaaIA\\xc11BT%\\xac+\\x81\\xc7Y\\xfa',\n",
       " b'\\x17\\x03\\x03\\x00E\\xac2\\x95\\xa8^\\xe68\\xb5\\xe4\\x96\\x8btpzX1\\xce\\x07\\xe4\\xcd\\x0c\\xd6\\x97^[1/c^=\\xf7Kk\\xf2\\xb5\\x1c-\\xaf\\x9c\\xb5\\xaf\\x16;\\x17\\xac\\x9a\\x19\\xa9\\x1a\\xc0\\x05@g\\xa3\\x01%\\xbf\\x95q\\x88h\\x02E\\xda\\xb5\\x12\\xf4\\xe9\\xdc',\n",
       " b'\\x17\\x03\\x03\\x00i\\xf5H\\x0f\\'.\\xb4`G\\x81\\x18\\x84\\x07\\x96\\xcf\\x88*\\x94\\xa22\\xea\\xac\\x13\\xdcfn\\xdd\\xe0\\xdd\\xa1.F\\xd7\\xf3\\xeb\\xab\\x10\\tK\\xfd&\\xc9\\xd2\\x86O\\x15%%\\xe6\\xca\\x8e\\x1ey,w\\xb3\\xd5,\\xb0\\x8e\\xe3\\xccE\\xc9M\\xd0\\x81\\xf9\\x8bK\\xc8P\\x95\\xce7\\xa3_#\"|l\\xfe\\xb1[\\x07\\xb8\\t\\x93\\xca\\x9b\\xd3\\xc6tS\\xff\\xe6\\x1e\\t\\xf3\\x83C\\xc1\\xd8\\x95\\xf7^',\n",
       " b\"\\x17\\x03\\x03\\x00i\\x15u\\xcb\\x80\\x99\\xe9\\x01xk\\xe2\\xba'\\x021\\xc9V\\xa3\\xd7V\\xc7\\xb0\\x8a|\\x82\\xa7\\xc1\\x99qt\\xd5\\xb1K\\x1f\\xec8\\xbe\\xd2\\xc3&\\x9b\\x1b\\xbe)\\x83@ 8\\xa8\\xf6\\x9d\\xaf\\xe2e_\\xb3\\x9a o\\x8e\\xd8\\xc1\\xb9\\xaa?&\\x944&\\xb4\\xf3;\\xb2\\xb0\\xcabOb8\\x05X\\x83\\xf6\\xa9\\xd0CO\\xe2\\x7f%\\xf4\\xeeh\\xbc\\x1e\\x1e\\x96Y\\t\\x9d\\xaa\\xaaV,\\x9bv\"]"
      ]
     },
     "execution_count": 8,
     "metadata": {},
     "output_type": "execute_result"
    }
   ],
   "source": [
    "payloads = []\n",
    "for p in df['Payload_Raw'].values:\n",
    "    payloads.append(p)\n",
    "payloads"
   ]
  }
 ],
 "metadata": {
  "kernelspec": {
   "display_name": "Python 3",
   "language": "python",
   "name": "python3"
  },
  "language_info": {
   "codemirror_mode": {
    "name": "ipython",
    "version": 3
   },
   "file_extension": ".py",
   "mimetype": "text/x-python",
   "name": "python",
   "nbconvert_exporter": "python",
   "pygments_lexer": "ipython3",
   "version": "3.9.5"
  },
  "orig_nbformat": 4
 },
 "nbformat": 4,
 "nbformat_minor": 2
}
