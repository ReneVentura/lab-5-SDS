{
 "cells": [
  {
   "cell_type": "code",
   "execution_count": 99,
   "metadata": {},
   "outputs": [],
   "source": [
    "import pandas as pd\n",
    "import numpy as np\n",
    "from sklearn.preprocessing import StandardScaler\n",
    "from sklearn.decomposition import PCA\n",
    "from sklearn.linear_model import LogisticRegression\n",
    "from sklearn.metrics import accuracy_score\n"
   ]
  },
  {
   "cell_type": "code",
   "execution_count": 61,
   "metadata": {},
   "outputs": [],
   "source": [
    "train_data = pd.read_csv('trafico_train.csv')\n",
    "test_data = pd.read_csv('trafico_test.csv')"
   ]
  },
  {
   "attachments": {},
   "cell_type": "markdown",
   "metadata": {},
   "source": [
    "codificar las variables cualitativas para la interpretacion de los modelos"
   ]
  },
  {
   "cell_type": "code",
   "execution_count": 71,
   "metadata": {},
   "outputs": [
    {
     "data": {
      "text/plain": [
       "25192"
      ]
     },
     "execution_count": 71,
     "metadata": {},
     "output_type": "execute_result"
    }
   ],
   "source": [
    "X_train = train_data.drop(\"class\", axis=1)\n",
    "y_train = train_data[\"class\"]\n",
    "X_test = test_data\n",
    "for col in X_train.columns:\n",
    "    if X_train[col].dtype == 'O':\n",
    "        le = LabelEncoder()\n",
    "        X_train[col] = le.fit_transform(X_train[col])\n",
    "for col in y_train:\n",
    "    if y_train.dtype == 'O':\n",
    "        le = LabelEncoder()\n",
    "        y_train = le.fit_transform(y_train)\n",
    "\n",
    "for col in X_test.columns:\n",
    "    if X_test[col].dtype == 'O':\n",
    "        le = LabelEncoder()\n",
    "        X_test[col] = le.fit_transform(X_test[col])\n"
   ]
  },
  {
   "cell_type": "code",
   "execution_count": 86,
   "metadata": {},
   "outputs": [],
   "source": [
    "from sklearn.utils import resample\n",
    "\n",
    "# Submuestrear el conjunto de entrenamiento para igualar el tamaño del conjunto de prueba\n",
    "X_train_resampled, y_train_resampled = resample(X_train, y_train, n_samples=len(X_test), random_state=42)\n",
    "\n",
    "\n",
    "\n"
   ]
  },
  {
   "cell_type": "code",
   "execution_count": 94,
   "metadata": {},
   "outputs": [],
   "source": [
    "from sklearn.metrics import accuracy_score\n",
    "from sklearn.metrics import classification_report\n",
    "from sklearn.metrics import f1_score"
   ]
  },
  {
   "attachments": {},
   "cell_type": "markdown",
   "metadata": {},
   "source": [
    "*Modelo de Logistic Regression*"
   ]
  },
  {
   "attachments": {},
   "cell_type": "markdown",
   "metadata": {},
   "source": [
    "sin PCA"
   ]
  },
  {
   "cell_type": "code",
   "execution_count": 96,
   "metadata": {},
   "outputs": [
    {
     "name": "stdout",
     "output_type": "stream",
     "text": [
      "Para prueba sin PCA\n",
      "              precision    recall  f1-score   support\n",
      "\n",
      "           0       0.87      0.86      0.87     10497\n",
      "           1       0.88      0.89      0.89     12047\n",
      "\n",
      "    accuracy                           0.88     22544\n",
      "   macro avg       0.88      0.88      0.88     22544\n",
      "weighted avg       0.88      0.88      0.88     22544\n",
      "\n",
      "Para entrenamiento sin PCA\n",
      "              precision    recall  f1-score   support\n",
      "\n",
      "           0       0.47      0.36      0.41     10497\n",
      "           1       0.53      0.64      0.58     12047\n",
      "\n",
      "    accuracy                           0.51     22544\n",
      "   macro avg       0.50      0.50      0.49     22544\n",
      "weighted avg       0.50      0.51      0.50     22544\n",
      "\n"
     ]
    },
    {
     "name": "stderr",
     "output_type": "stream",
     "text": [
      "c:\\Users\\ravz2\\AppData\\Local\\Programs\\Python\\Python39\\lib\\site-packages\\sklearn\\linear_model\\_logistic.py:458: ConvergenceWarning: lbfgs failed to converge (status=1):\n",
      "STOP: TOTAL NO. of ITERATIONS REACHED LIMIT.\n",
      "\n",
      "Increase the number of iterations (max_iter) or scale the data as shown in:\n",
      "    https://scikit-learn.org/stable/modules/preprocessing.html\n",
      "Please also refer to the documentation for alternative solver options:\n",
      "    https://scikit-learn.org/stable/modules/linear_model.html#logistic-regression\n",
      "  n_iter_i = _check_optimize_result(\n"
     ]
    }
   ],
   "source": [
    "# Crear y ajustar el modelo sin reducción de dimensionalidad\n",
    "logreg = LogisticRegression()\n",
    "logreg.fit(X_train_resampled, y_train_resampled)\n",
    "\n",
    "# Realizar predicciones en el conjunto de datos de prueba\n",
    "y_pred = logreg.predict(X_test)\n",
    "y_pred_train=logreg.predict(X_train_resampled)\n",
    "print(\"Para prueba sin PCA\")\n",
    "print(classification_report(y_train_resampled, y_pred_train))\n",
    "print(\"Para entrenamiento sin PCA\")\n",
    "print(classification_report(y_train_resampled, y_pred))"
   ]
  },
  {
   "attachments": {},
   "cell_type": "markdown",
   "metadata": {},
   "source": [
    "con PCA"
   ]
  },
  {
   "cell_type": "code",
   "execution_count": 97,
   "metadata": {},
   "outputs": [
    {
     "name": "stdout",
     "output_type": "stream",
     "text": [
      "Para prueba sin PCA\n",
      "              precision    recall  f1-score   support\n",
      "\n",
      "           0       0.87      0.86      0.87     10497\n",
      "           1       0.88      0.89      0.89     12047\n",
      "\n",
      "    accuracy                           0.88     22544\n",
      "   macro avg       0.88      0.88      0.88     22544\n",
      "weighted avg       0.88      0.88      0.88     22544\n",
      "\n",
      "Para entrenamiento sin PCA\n",
      "              precision    recall  f1-score   support\n",
      "\n",
      "           0       0.47      0.36      0.41     10497\n",
      "           1       0.53      0.64      0.58     12047\n",
      "\n",
      "    accuracy                           0.51     22544\n",
      "   macro avg       0.50      0.50      0.49     22544\n",
      "weighted avg       0.50      0.51      0.50     22544\n",
      "\n"
     ]
    },
    {
     "name": "stderr",
     "output_type": "stream",
     "text": [
      "c:\\Users\\ravz2\\AppData\\Local\\Programs\\Python\\Python39\\lib\\site-packages\\sklearn\\linear_model\\_logistic.py:458: ConvergenceWarning: lbfgs failed to converge (status=1):\n",
      "STOP: TOTAL NO. of ITERATIONS REACHED LIMIT.\n",
      "\n",
      "Increase the number of iterations (max_iter) or scale the data as shown in:\n",
      "    https://scikit-learn.org/stable/modules/preprocessing.html\n",
      "Please also refer to the documentation for alternative solver options:\n",
      "    https://scikit-learn.org/stable/modules/linear_model.html#logistic-regression\n",
      "  n_iter_i = _check_optimize_result(\n"
     ]
    }
   ],
   "source": [
    "# Crear modelo con PCA\n",
    "pca = PCA(n_components=10)\n",
    "X_train_pca = pca.fit_transform(X_train)\n",
    "X_test_pca = pca.transform(X_test)\n",
    "\n",
    "logreg_pca = LogisticRegression()\n",
    "\n",
    "logreg_pca.fit(X_train_resampled, y_train_resampled)\n",
    "\n",
    "# Realizar predicciones en el conjunto de datos de prueba\n",
    "y_pred = logreg_pca.predict(X_test)\n",
    "y_pred_train=logreg_pca.predict(X_train_resampled)\n",
    "print(\"Para prueba con PCA\")\n",
    "print(classification_report(y_train_resampled, y_pred_train))\n",
    "print(\"Para entrenamiento con PCA\")\n",
    "print(classification_report(y_train_resampled, y_pred))"
   ]
  },
  {
   "attachments": {},
   "cell_type": "markdown",
   "metadata": {},
   "source": [
    "Se observa una clara mejora en las metricas del modelo, pero debido a que en los datos de prueba no existe la columna class, no es tan optimo comparar la prediccion de test vs y train"
   ]
  },
  {
   "attachments": {},
   "cell_type": "markdown",
   "metadata": {},
   "source": [
    "*Modelo de Linear SVC*"
   ]
  },
  {
   "attachments": {},
   "cell_type": "markdown",
   "metadata": {},
   "source": [
    "sin PCA"
   ]
  },
  {
   "cell_type": "code",
   "execution_count": 100,
   "metadata": {},
   "outputs": [],
   "source": [
    "from sklearn.svm import LinearSVC"
   ]
  },
  {
   "cell_type": "code",
   "execution_count": 102,
   "metadata": {},
   "outputs": [
    {
     "name": "stderr",
     "output_type": "stream",
     "text": [
      "c:\\Users\\ravz2\\AppData\\Local\\Programs\\Python\\Python39\\lib\\site-packages\\sklearn\\svm\\_base.py:1244: ConvergenceWarning: Liblinear failed to converge, increase the number of iterations.\n",
      "  warnings.warn(\n"
     ]
    }
   ],
   "source": [
    "# modelo sin PCA\n",
    "svm = LinearSVC(random_state=0, max_iter=10000)\n",
    "svm.fit(X_train_resampled, y_train_resampled)\n",
    "y_pred_train = svm.predict(X_train_resampled)\n",
    "y_pred_test = svm.predict(X_test)"
   ]
  },
  {
   "cell_type": "code",
   "execution_count": 103,
   "metadata": {},
   "outputs": [
    {
     "name": "stdout",
     "output_type": "stream",
     "text": [
      "Para prueba sin PCA\n",
      "              precision    recall  f1-score   support\n",
      "\n",
      "           0       0.92      0.90      0.91     10497\n",
      "           1       0.92      0.93      0.92     12047\n",
      "\n",
      "    accuracy                           0.92     22544\n",
      "   macro avg       0.92      0.92      0.92     22544\n",
      "weighted avg       0.92      0.92      0.92     22544\n",
      "\n",
      "Para entrenamiento sin PCA\n",
      "              precision    recall  f1-score   support\n",
      "\n",
      "           0       0.47      0.40      0.43     10497\n",
      "           1       0.53      0.60      0.57     12047\n",
      "\n",
      "    accuracy                           0.51     22544\n",
      "   macro avg       0.50      0.50      0.50     22544\n",
      "weighted avg       0.50      0.51      0.50     22544\n",
      "\n"
     ]
    }
   ],
   "source": [
    "print(\"Para prueba sin PCA\")\n",
    "print(classification_report(y_train_resampled, y_pred_train))\n",
    "print(\"Para entrenamiento sin PCA\")\n",
    "print(classification_report(y_train_resampled, y_pred_test))"
   ]
  },
  {
   "attachments": {},
   "cell_type": "markdown",
   "metadata": {},
   "source": [
    "con PCA"
   ]
  },
  {
   "cell_type": "code",
   "execution_count": 105,
   "metadata": {},
   "outputs": [
    {
     "name": "stderr",
     "output_type": "stream",
     "text": [
      "c:\\Users\\ravz2\\AppData\\Local\\Programs\\Python\\Python39\\lib\\site-packages\\sklearn\\svm\\_base.py:1244: ConvergenceWarning: Liblinear failed to converge, increase the number of iterations.\n",
      "  warnings.warn(\n"
     ]
    }
   ],
   "source": [
    "# modelo con PCA\n",
    "pca = PCA(n_components=10)\n",
    "X_train_pca = pca.fit_transform(X_train_resampled)\n",
    "X_test_pca = pca.transform(X_test)\n",
    "\n",
    "svm_pca = LinearSVC(random_state=0, max_iter=10000)\n",
    "svm_pca.fit(X_train_pca, y_train_resampled)\n",
    "y_pred_train_pca = svm_pca.predict(X_train_pca)\n",
    "y_pred_test_pca = svm_pca.predict(X_test_pca)"
   ]
  },
  {
   "cell_type": "code",
   "execution_count": 106,
   "metadata": {},
   "outputs": [
    {
     "name": "stdout",
     "output_type": "stream",
     "text": [
      "Para prueba con PCA\n",
      "              precision    recall  f1-score   support\n",
      "\n",
      "           0       0.92      0.90      0.91     10497\n",
      "           1       0.92      0.93      0.92     12047\n",
      "\n",
      "    accuracy                           0.92     22544\n",
      "   macro avg       0.92      0.92      0.92     22544\n",
      "weighted avg       0.92      0.92      0.92     22544\n",
      "\n",
      "Para entrenamiento con PCA\n",
      "              precision    recall  f1-score   support\n",
      "\n",
      "           0       0.47      0.40      0.43     10497\n",
      "           1       0.53      0.60      0.57     12047\n",
      "\n",
      "    accuracy                           0.51     22544\n",
      "   macro avg       0.50      0.50      0.50     22544\n",
      "weighted avg       0.50      0.51      0.50     22544\n",
      "\n"
     ]
    }
   ],
   "source": [
    "print(\"Para prueba con PCA\")\n",
    "print(classification_report(y_train_resampled, y_pred_train))\n",
    "print(\"Para entrenamiento con PCA\")\n",
    "print(classification_report(y_train_resampled, y_pred_test))"
   ]
  },
  {
   "attachments": {},
   "cell_type": "markdown",
   "metadata": {},
   "source": [
    "Se observa una clara mejora en las metricas del modelo cuando se utiliza PCA debido a la cantidad de variables cualitativas, pero debido a que en los datos de prueba no existe la columna class, no es tan optimo comparar la prediccion de test vs y train. En este caso SVM tuvo un mejor desempeño que LR debido al tipo de datos a analizar"
   ]
  }
 ],
 "metadata": {
  "kernelspec": {
   "display_name": "Python 3",
   "language": "python",
   "name": "python3"
  },
  "language_info": {
   "codemirror_mode": {
    "name": "ipython",
    "version": 3
   },
   "file_extension": ".py",
   "mimetype": "text/x-python",
   "name": "python",
   "nbconvert_exporter": "python",
   "pygments_lexer": "ipython3",
   "version": "3.9.5"
  },
  "orig_nbformat": 4
 },
 "nbformat": 4,
 "nbformat_minor": 2
}
